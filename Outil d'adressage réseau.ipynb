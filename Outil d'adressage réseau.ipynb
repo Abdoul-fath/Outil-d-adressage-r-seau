{
 "cells": [
  {
   "cell_type": "code",
   "execution_count": 25,
   "id": "e4f6b7cf-2f22-4963-9a88-6b55574eb8f5",
   "metadata": {},
   "outputs": [
    {
     "name": "stdout",
     "output_type": "stream",
     "text": [
      "Plan d'adressage IP\n",
      "1. Sous-adressage basé sur le nombre de départements\n",
      "2. Plan d'adressage en fonction des besoins des départements\n"
     ]
    },
    {
     "name": "stdin",
     "output_type": "stream",
     "text": [
      "Choisissez une option (1/2) :  2\n",
      "Entrez le nombre de départements :  1\n",
      "Entrez le nombre de machines pour le département 1 :  1500\n",
      "Entrez l'adresse réseau (ex: 10.0.0.0/8) :  10.0.0.0/8\n"
     ]
    },
    {
     "name": "stdout",
     "output_type": "stream",
     "text": [
      "\n",
      "Tableau des sous-réseaux :\n",
      "Dpt             Sous-reseau          Intervalle                     Diffusion            Masque\n",
      "-----------------------------------------------------------------------------------------------\n",
      "Dpt 1           10.0.0.0             10.0.0.1 - 10.0.7.254          10.0.7.255           255.255.248.0\n"
     ]
    }
   ],
   "source": [
    "import ipaddress\n",
    "import math\n",
    "\n",
    "def calculate_subnets(network, num_departments):\n",
    "    base_network = ipaddress.ip_network(network, strict=False)\n",
    "    prefix_length = base_network.prefixlen\n",
    "    max_subnets = 2 ** (base_network.max_prefixlen - prefix_length)\n",
    "\n",
    "    if num_departments > max_subnets:\n",
    "        raise ValueError(\"Nombre de départements trop élevé pour cette plage d'adresses réseau !\")\n",
    "\n",
    "    new_prefix = prefix_length + math.ceil(math.log2(num_departments))\n",
    "    subnets = list(base_network.subnets(new_prefix=new_prefix))[:num_departments]\n",
    "\n",
    "    result = []\n",
    "    for i, subnet in enumerate(subnets):\n",
    "        first_ip = subnet.network_address + 1\n",
    "        last_ip = subnet.broadcast_address - 1\n",
    "        result.append({\n",
    "            \"Dpt\": f\"Dpt {i + 1}\",\n",
    "            \"Sous-reseau\": str(subnet.network_address),\n",
    "            \"Intervalle\": f\"{first_ip} - {last_ip}\",\n",
    "            \"Diffusion\": str(subnet.broadcast_address),\n",
    "            \"Masque\": str(subnet.netmask),\n",
    "        })\n",
    "    return result\n",
    "\n",
    "def allocate_machines(network, department_data):\n",
    "    base_network = ipaddress.ip_network(network, strict=False)\n",
    "    prefix_length = base_network.prefixlen\n",
    "\n",
    "    department_data = sorted(department_data, key=lambda x: x[\"machines\"], reverse=True)\n",
    "    subnets = []\n",
    "\n",
    "    for dep in department_data:\n",
    "        required_ips = dep[\"machines\"] + 2  # Machines + réseau + diffusion\n",
    "        new_prefix = base_network.max_prefixlen - math.ceil(math.log2(required_ips))\n",
    "        subnet = next(base_network.subnets(new_prefix=new_prefix))\n",
    "        base_network = ipaddress.ip_network((subnet.network_address + subnet.num_addresses, subnet.prefixlen), strict=False)\n",
    "\n",
    "        first_ip = subnet.network_address + 1\n",
    "        last_ip = subnet.broadcast_address - 1\n",
    "\n",
    "        subnets.append({\n",
    "            \"Dpt\": dep[\"name\"],\n",
    "            \"Sous-reseau\": str(subnet.network_address),\n",
    "            \"Intervalle\": f\"{first_ip} - {last_ip}\",\n",
    "            \"Diffusion\": str(subnet.broadcast_address),\n",
    "            \"Masque\": str(subnet.netmask),\n",
    "        })\n",
    "    return subnets\n",
    "\n",
    "def display_table(data):\n",
    "    print(\"\\nTableau des sous-réseaux :\")\n",
    "    print(\"Dpt\".ljust(15), \"Sous-reseau\".ljust(20), \"Intervalle\".ljust(30), \"Diffusion\".ljust(20), \"Masque\")\n",
    "    print(\"-\" * 95)\n",
    "    for entry in data:\n",
    "        print(entry[\"Dpt\"].ljust(15), entry[\"Sous-reseau\"].ljust(20), entry[\"Intervalle\"].ljust(30), entry[\"Diffusion\"].ljust(20), entry[\"Masque\"])\n",
    "\n",
    "def main():\n",
    "    print(\"Plan d'adressage IP\")\n",
    "    print(\"1. Sous-adressage basé sur le nombre de départements\")\n",
    "    print(\"2. Plan d'adressage en fonction des besoins des départements\")\n",
    "    choice = input(\"Choisissez une option (1/2) : \").strip()\n",
    "\n",
    "    if choice == \"1\":\n",
    "        num_departments = int(input(\"Entrez le nombre de départements : \"))\n",
    "        network = input(\"Entrez l'adresse réseau (ex: 192.168.1.0/24) : \")\n",
    "\n",
    "        try:\n",
    "            data = calculate_subnets(network, num_departments)\n",
    "            display_table(data)\n",
    "        except ValueError as e:\n",
    "            print(f\"Erreur : {e}\")\n",
    "\n",
    "    elif choice == \"2\":\n",
    "        num_departments = int(input(\"Entrez le nombre de départements : \"))\n",
    "        departments = []\n",
    "\n",
    "        for i in range(num_departments):\n",
    "            machines = int(input(f\"Entrez le nombre de machines pour le département {i + 1} : \"))\n",
    "            departments.append({\"name\": f\"Dpt {i + 1}\", \"machines\": machines})\n",
    "\n",
    "        network = input(\"Entrez l'adresse réseau (ex: 10.0.0.0/8) : \")\n",
    "\n",
    "        try:\n",
    "            data = allocate_machines(network, departments)\n",
    "            display_table(data)\n",
    "        except ValueError as e:\n",
    "            print(f\"Erreur : {e}\")\n",
    "\n",
    "    else:\n",
    "        print(\"Choix invalide, veuillez réessayer.\")\n",
    "\n",
    "if __name__ == \"__main__\":\n",
    "    main()\n"
   ]
  },
  {
   "cell_type": "code",
   "execution_count": null,
   "id": "8c589433-158c-42fb-b2b0-da5e0b9bcee9",
   "metadata": {},
   "outputs": [],
   "source": []
  }
 ],
 "metadata": {
  "kernelspec": {
   "display_name": "Python 3 (ipykernel)",
   "language": "python",
   "name": "python3"
  },
  "language_info": {
   "codemirror_mode": {
    "name": "ipython",
    "version": 3
   },
   "file_extension": ".py",
   "mimetype": "text/x-python",
   "name": "python",
   "nbconvert_exporter": "python",
   "pygments_lexer": "ipython3",
   "version": "3.12.4"
  }
 },
 "nbformat": 4,
 "nbformat_minor": 5
}
